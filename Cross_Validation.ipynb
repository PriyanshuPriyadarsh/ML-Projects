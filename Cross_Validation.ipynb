{
 "cells": [
  {
   "cell_type": "markdown",
   "id": "0cd0e76c-5692-4b87-948f-0bf3d6a75797",
   "metadata": {},
   "source": [
    "# **Cross Validation** : *Comparing different models*"
   ]
  },
  {
   "cell_type": "code",
   "execution_count": 1,
   "id": "24f0f1d3-70f2-4b87-8842-0395c1b6a841",
   "metadata": {},
   "outputs": [],
   "source": [
    "import pandas as pd\n",
    "import numpy as np\n",
    "from sklearn.linear_model import LogisticRegression\n",
    "from sklearn.ensemble import RandomForestClassifier\n",
    "from sklearn.svm import SVC\n",
    "from sklearn.datasets import load_digits"
   ]
  },
  {
   "cell_type": "code",
   "execution_count": 2,
   "id": "c865071b-18e3-4bb7-84d2-97e49f951073",
   "metadata": {},
   "outputs": [],
   "source": [
    "digits=load_digits()"
   ]
  },
  {
   "cell_type": "code",
   "execution_count": 3,
   "id": "ae0f78a7-2502-4746-9e90-6576f933a608",
   "metadata": {},
   "outputs": [],
   "source": [
    "from sklearn.model_selection import train_test_split\n",
    "X_train,X_test,y_train,y_test=train_test_split(digits.data,digits.target,test_size=0.3)"
   ]
  },
  {
   "cell_type": "markdown",
   "id": "d830ce65-f4af-4146-a2bd-77eb896f3f28",
   "metadata": {},
   "source": [
    "#### LogisticRegression score"
   ]
  },
  {
   "cell_type": "code",
   "execution_count": 4,
   "id": "f2436034-2f0f-414a-8f42-23cfc9811366",
   "metadata": {},
   "outputs": [
    {
     "data": {
      "text/plain": [
       "0.9592592592592593"
      ]
     },
     "execution_count": 4,
     "metadata": {},
     "output_type": "execute_result"
    }
   ],
   "source": [
    "lr=LogisticRegression(solver='sag', max_iter=1000)\n",
    "lr.fit(X_train,y_train)\n",
    "lr.score(X_test,y_test)"
   ]
  },
  {
   "cell_type": "markdown",
   "id": "f671ecfb-3ac3-4f94-bf28-8d3fc830a1e6",
   "metadata": {},
   "source": [
    "#### RandomForestClassifier score"
   ]
  },
  {
   "cell_type": "code",
   "execution_count": 5,
   "id": "7b26d219-5999-477f-abb1-b889e9b9f211",
   "metadata": {},
   "outputs": [
    {
     "data": {
      "text/plain": [
       "0.9796296296296296"
      ]
     },
     "execution_count": 5,
     "metadata": {},
     "output_type": "execute_result"
    }
   ],
   "source": [
    "rf=RandomForestClassifier()\n",
    "rf.fit(X_train,y_train)\n",
    "rf.score(X_test,y_test)"
   ]
  },
  {
   "cell_type": "markdown",
   "id": "b4ec7eb5-96dc-4bcc-9585-d0503a70c0b1",
   "metadata": {},
   "source": [
    "#### SVM score"
   ]
  },
  {
   "cell_type": "code",
   "execution_count": 6,
   "id": "93fc7162-b01c-4775-9335-068e49b55ce9",
   "metadata": {},
   "outputs": [
    {
     "data": {
      "text/plain": [
       "0.9907407407407407"
      ]
     },
     "execution_count": 6,
     "metadata": {},
     "output_type": "execute_result"
    }
   ],
   "source": [
    "svm=SVC()\n",
    "svm.fit(X_train,y_train)\n",
    "svm.score(X_test,y_test)"
   ]
  },
  {
   "cell_type": "markdown",
   "id": "f8fba67d-114f-4330-8030-73cbfd3c27b2",
   "metadata": {},
   "source": [
    "## **K-Fold** "
   ]
  },
  {
   "cell_type": "code",
   "execution_count": 7,
   "id": "24bcad33-652e-4d6a-a649-34ff1341de4c",
   "metadata": {},
   "outputs": [
    {
     "data": {
      "text/plain": [
       "KFold(n_splits=3, random_state=None, shuffle=False)"
      ]
     },
     "execution_count": 7,
     "metadata": {},
     "output_type": "execute_result"
    }
   ],
   "source": [
    "from sklearn.model_selection import KFold\n",
    "kf=KFold(n_splits=3)\n",
    "kf"
   ]
  },
  {
   "cell_type": "code",
   "execution_count": 8,
   "id": "99f620c3-863f-4756-a239-96777a0850d0",
   "metadata": {},
   "outputs": [
    {
     "name": "stdout",
     "output_type": "stream",
     "text": [
      "[3 4 5 6 7 8] [0 1 2]\n",
      "[0 1 2 6 7 8] [3 4 5]\n",
      "[0 1 2 3 4 5] [6 7 8]\n"
     ]
    }
   ],
   "source": [
    "for train_index,test_index in kf.split([1,2,3,4,5,6,7,8,9]):\n",
    "    print(train_index,test_index)"
   ]
  },
  {
   "cell_type": "code",
   "execution_count": 9,
   "id": "64702a7f-303d-45cc-8234-8619cbb6b700",
   "metadata": {},
   "outputs": [],
   "source": [
    "def get_score(model,X_train,X_test,y_train,y_test):\n",
    "    model.fit(X_train,y_train)\n",
    "    return model.score(X_test,y_test)"
   ]
  },
  {
   "cell_type": "code",
   "execution_count": 10,
   "id": "ee0a1bd4-0f55-4e30-80fa-1439105a4d69",
   "metadata": {},
   "outputs": [
    {
     "data": {
      "text/plain": [
       "(0.9907407407407407, 0.9833333333333333)"
      ]
     },
     "execution_count": 10,
     "metadata": {},
     "output_type": "execute_result"
    }
   ],
   "source": [
    "get_score(SVC(),X_train,X_test,y_train,y_test),get_score(RandomForestClassifier(),X_train,X_test,y_train,y_test)"
   ]
  },
  {
   "cell_type": "markdown",
   "id": "2138b289-b02f-4004-b2d3-ab272bdeed20",
   "metadata": {},
   "source": [
    "## **Stratified** KFold"
   ]
  },
  {
   "cell_type": "code",
   "execution_count": 11,
   "id": "bdda7e2d-b00e-4fdb-96bf-d6931e9dda27",
   "metadata": {},
   "outputs": [],
   "source": [
    "from sklearn.model_selection import StratifiedKFold \n",
    "skf= StratifiedKFold(n_splits=3)"
   ]
  },
  {
   "cell_type": "code",
   "execution_count": 12,
   "id": "24970045-1a1b-4a7b-acbc-b02629e05d5c",
   "metadata": {},
   "outputs": [],
   "source": [
    "scores_lr=[]\n",
    "scores_svm=[]\n",
    "scores_rf=[]"
   ]
  },
  {
   "cell_type": "code",
   "execution_count": 13,
   "id": "a5f4ce1c-a8eb-44b8-8a92-07bf6eca675e",
   "metadata": {},
   "outputs": [],
   "source": [
    "for train_index,test_index in skf.split(digits.data,digits.target):\n",
    "    X_train,X_test,y_train,y_test=digits.data[train_index],digits.data[test_index],digits.target[train_index],digits.target[test_index]\n",
    "    scores_lr.append((get_score(LogisticRegression(solver='sag', max_iter=1000),X_train,X_test,y_train,y_test)))\n",
    "    scores_svm.append((get_score(SVC(),X_train,X_test,y_train,y_test)))\n",
    "    scores_rf.append((get_score(RandomForestClassifier(),X_train,X_test,y_train,y_test)))"
   ]
  },
  {
   "cell_type": "code",
   "execution_count": 14,
   "id": "eff2cfc5-0d71-4a05-be05-9cb19d2a5a28",
   "metadata": {},
   "outputs": [
    {
     "data": {
      "text/plain": [
       "[0.9232053422370617, 0.9415692821368948, 0.9148580968280468]"
      ]
     },
     "execution_count": 14,
     "metadata": {},
     "output_type": "execute_result"
    }
   ],
   "source": [
    "scores_lr"
   ]
  },
  {
   "cell_type": "code",
   "execution_count": 15,
   "id": "704a2686-888e-44a5-b204-9f608c9927db",
   "metadata": {},
   "outputs": [
    {
     "data": {
      "text/plain": [
       "[0.9649415692821369, 0.9799666110183639, 0.9649415692821369]"
      ]
     },
     "execution_count": 15,
     "metadata": {},
     "output_type": "execute_result"
    }
   ],
   "source": [
    "scores_svm"
   ]
  },
  {
   "cell_type": "code",
   "execution_count": 16,
   "id": "163f767f-0452-46b5-b306-6a6d8b068a50",
   "metadata": {},
   "outputs": [
    {
     "data": {
      "text/plain": [
       "[0.9382303839732888, 0.9632721202003339, 0.9232053422370617]"
      ]
     },
     "execution_count": 16,
     "metadata": {},
     "output_type": "execute_result"
    }
   ],
   "source": [
    "scores_rf"
   ]
  },
  {
   "cell_type": "markdown",
   "id": "7932dca1-ab4e-47ab-8294-3564e83b0f0b",
   "metadata": {},
   "source": [
    "## **Cross Val Score** Evaluation"
   ]
  },
  {
   "cell_type": "code",
   "execution_count": 17,
   "id": "887688ab-6be9-4e38-a41c-cc2de46402ed",
   "metadata": {},
   "outputs": [],
   "source": [
    "from sklearn.model_selection import cross_val_score"
   ]
  },
  {
   "cell_type": "code",
   "execution_count": 18,
   "id": "6ee7c9eb-dd4a-4f08-acb6-e688afe3c6e5",
   "metadata": {},
   "outputs": [
    {
     "data": {
      "text/plain": [
       "array([0.91944444, 0.86944444, 0.94428969, 0.93871866, 0.89972145])"
      ]
     },
     "execution_count": 18,
     "metadata": {},
     "output_type": "execute_result"
    }
   ],
   "source": [
    "cross_val_score(LogisticRegression(solver='sag', max_iter=1000),digits.data,digits.target)"
   ]
  },
  {
   "cell_type": "code",
   "execution_count": 19,
   "id": "0fb7f77d-9c26-45c1-81b4-7a81aea60e7c",
   "metadata": {},
   "outputs": [
    {
     "data": {
      "text/plain": [
       "array([0.96111111, 0.94444444, 0.98328691, 0.98885794, 0.93871866])"
      ]
     },
     "execution_count": 19,
     "metadata": {},
     "output_type": "execute_result"
    }
   ],
   "source": [
    "cross_val_score(SVC(),digits.data,digits.target)"
   ]
  },
  {
   "cell_type": "code",
   "execution_count": 20,
   "id": "dd7850b6-ba42-4f9f-94fa-bb5b32406cfb",
   "metadata": {},
   "outputs": [
    {
     "data": {
      "text/plain": [
       "array([0.93155259, 0.95325543, 0.93656093])"
      ]
     },
     "execution_count": 20,
     "metadata": {},
     "output_type": "execute_result"
    }
   ],
   "source": [
    "cross_val_score(RandomForestClassifier(),digits.data,digits.target,cv=3)  # to specify the number of folds in a `(Stratified)KFold"
   ]
  }
 ],
 "metadata": {
  "kernelspec": {
   "display_name": "Python 3 (ipykernel)",
   "language": "python",
   "name": "python3"
  },
  "language_info": {
   "codemirror_mode": {
    "name": "ipython",
    "version": 3
   },
   "file_extension": ".py",
   "mimetype": "text/x-python",
   "name": "python",
   "nbconvert_exporter": "python",
   "pygments_lexer": "ipython3",
   "version": "3.11.7"
  }
 },
 "nbformat": 4,
 "nbformat_minor": 5
}
